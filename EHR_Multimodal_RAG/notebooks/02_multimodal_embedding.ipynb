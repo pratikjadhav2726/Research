class ClinicalConceptDatabase:
    """Database of clinical concepts for multimodal embedding demonstration"""
    
    def __init__(self):
        self.concepts = self._create_clinical_concepts()
        self.hierarchies = self._create_concept_hierarchies()
    
    def _create_clinical_concepts(self):
        """Create comprehensive clinical concept database"""
        concepts = {
            # Cardiovascular concepts
            "cardiovascular": {
                "conditions": [
                    {"id": "cv_001", "name": "Myocardial Infarction", "synonyms": ["Heart Attack", "MI", "STEMI", "NSTEMI"], 
                     "description": "Death of heart muscle due to insufficient blood flow"},
                    {"id": "cv_002", "name": "Heart Failure", "synonyms": ["CHF", "Congestive Heart Failure", "Cardiac Failure"],
                     "description": "Heart's inability to pump blood effectively"},
                    {"id": "cv_003", "name": "Hypertension", "synonyms": ["High Blood Pressure", "HTN"],
                     "description": "Persistently elevated blood pressure"},
                    {"id": "cv_004", "name": "Atrial Fibrillation", "synonyms": ["AFib", "AF"],
                     "description": "Irregular heart rhythm originating in the atria"}
                ],
                "symptoms": [
                    {"id": "cv_s001", "name": "Chest Pain", "synonyms": ["CP", "Angina", "Substernal Pain"],
                     "description": "Discomfort or pain in the chest region"},
                    {"id": "cv_s002", "name": "Shortness of Breath", "synonyms": ["SOB", "Dyspnea"],
                     "description": "Difficulty breathing or breathlessness"},
                    {"id": "cv_s003", "name": "Palpitations", "synonyms": ["Heart Racing", "Irregular Heartbeat"],
                     "description": "Awareness of heart beating irregularly"}
                ],
                "medications": [
                    {"id": "cv_m001", "name": "Lisinopril", "class": "ACE Inhibitor", "indication": "Hypertension, Heart Failure"},
                    {"id": "cv_m002", "name": "Metoprolol", "class": "Beta Blocker", "indication": "Hypertension, Heart Failure"},
                    {"id": "cv_m003", "name": "Atorvastatin", "class": "Statin", "indication": "Hyperlipidemia"}
                ]
            },
            
            # Endocrine concepts
            "endocrine": {
                "conditions": [
                    {"id": "en_001", "name": "Type 2 Diabetes", "synonyms": ["T2DM", "Diabetes Mellitus", "Adult-onset Diabetes"],
                     "description": "Metabolic disorder characterized by high blood sugar"},
                    {"id": "en_002", "name": "Hypothyroidism", "synonyms": ["Underactive Thyroid"],
                     "description": "Thyroid gland doesn't produce enough hormones"},
                    {"id": "en_003", "name": "Diabetic Ketoacidosis", "synonyms": ["DKA"],
                     "description": "Serious complication of diabetes"}
                ],
                "symptoms": [
                    {"id": "en_s001", "name": "Polyuria", "synonyms": ["Frequent Urination", "Excessive Urination"],
                     "description": "Abnormally large production of urine"},
                    {"id": "en_s002", "name": "Polydipsia", "synonyms": ["Excessive Thirst"],
                     "description": "Abnormal thirst"}
                ],
                "medications": [
                    {"id": "en_m001", "name": "Metformin", "class": "Biguanide", "indication": "Type 2 Diabetes"},
                    {"id": "en_m002", "name": "Insulin", "class": "Hormone", "indication": "Diabetes"},
                    {"id": "en_m003", "name": "Levothyroxine", "class": "Thyroid Hormone", "indication": "Hypothyroidism"}
                ]
            },
            
            # Respiratory concepts
            "respiratory": {
                "conditions": [
                    {"id": "resp_001", "name": "Pneumonia", "synonyms": ["Lung Infection"],
                     "description": "Infection that inflames air sacs in lungs"},
                    {"id": "resp_002", "name": "Asthma", "synonyms": ["Bronchial Asthma"],
                     "description": "Condition in which airways narrow and swell"},
                    {"id": "resp_003", "name": "COPD", "synonyms": ["Chronic Obstructive Pulmonary Disease"],
                     "description": "Group of lung diseases that block airflow"}
                ],
                "symptoms": [
                    {"id": "resp_s001", "name": "Cough", "synonyms": ["Persistent Cough", "Productive Cough"],
                     "description": "Sudden expulsion of air from lungs"},
                    {"id": "resp_s002", "name": "Wheezing", "synonyms": ["Whistling Breath"],
                     "description": "High-pitched whistling sound during breathing"}
                ],
                "medications": [
                    {"id": "resp_m001", "name": "Albuterol", "class": "Bronchodilator", "indication": "Asthma, COPD"},
                    {"id": "resp_m002", "name": "Prednisone", "class": "Corticosteroid", "indication": "Inflammation"}
                ]
            }
        }
        return concepts
    
    def _create_concept_hierarchies(self):
        """Create hierarchical relationships between concepts"""
        hierarchies = {
            "medical_specialties": {
                "Cardiology": ["Myocardial Infarction", "Heart Failure", "Hypertension", "Atrial Fibrillation"],
                "Endocrinology": ["Type 2 Diabetes", "Hypothyroidism", "Diabetic Ketoacidosis"],
                "Pulmonology": ["Pneumonia", "Asthma", "COPD"]
            },
            "symptom_to_condition": {
                "Chest Pain": ["Myocardial Infarction", "Heart Failure"],
                "Shortness of Breath": ["Heart Failure", "Asthma", "COPD", "Pneumonia"],
                "Polyuria": ["Type 2 Diabetes", "Diabetic Ketoacidosis"],
                "Cough": ["Pneumonia", "Asthma", "COPD"]
            },
            "medication_to_condition": {
                "Lisinopril": ["Hypertension", "Heart Failure"],
                "Metformin": ["Type 2 Diabetes"],
                "Albuterol": ["Asthma", "COPD"]
            }
        }
        return hierarchies
    
    def get_all_concept_names(self):
        """Get all concept names for embedding"""
        all_concepts = []
        for specialty, categories in self.concepts.items():
            for category, items in categories.items():
                for item in items:
                    all_concepts.append(item["name"])
                    all_concepts.extend(item["synonyms"])
        return list(set(all_concepts))
    
    def get_concept_descriptions(self):
        """Get concept descriptions for text embedding"""
        descriptions = {}
        for specialty, categories in self.concepts.items():
            for category, items in categories.items():
                for item in items:
                    descriptions[item["name"]] = item["description"]
                    for synonym in item["synonyms"]:
                        descriptions[synonym] = item["description"]
        return descriptions

# Initialize clinical concept database
concept_db = ClinicalConceptDatabase()
all_concepts = concept_db.get_all_concept_names()
concept_descriptions = concept_db.get_concept_descriptions()

print("📊 Clinical Concept Database Created")
print("=" * 40)
print(f"📋 Total Concepts: {len(all_concepts)}")
print(f"📝 Concept Descriptions: {len(concept_descriptions)}")

# Display sample concepts by category
print("\n🏥 Sample Clinical Concepts by Specialty:")
for specialty, categories in concept_db.concepts.items():
    print(f"\n{specialty.title()}:")
    for category, items in categories.items():
        print(f"  {category.title()}: {[item['name'] for item in items[:3]]}")
        if len(items) > 3:
            print(f"    ... and {len(items) - 3} more")

print(f"\n🔗 Hierarchical Relationships:")
for hierarchy_type, relationships in concept_db.hierarchies.items():
    print(f"  {hierarchy_type.replace('_', ' ').title()}: {len(relationships)} relationships")## 📊 1. Clinical Concept Data Preparation

Let's create a comprehensive set of clinical concepts across different modalities to demonstrate embedding alignment.# Import required libraries
import numpy as np
import pandas as pd
import matplotlib.pyplot as plt
import seaborn as sns
from sklearn.manifold import TSNE
from sklearn.decomposition import PCA
from sklearn.metrics.pairwise import cosine_similarity
from sklearn.preprocessing import StandardScaler
import plotly.express as px
import plotly.graph_objects as go
from plotly.subplots import make_subplots
import warnings
warnings.filterwarnings('ignore')

print("🧠 Multimodal Embedding Demo - Libraries Loaded")
print("=" * 50)
print("✅ NumPy, Pandas, Scikit-learn ready")
print("✅ Matplotlib, Seaborn, Plotly ready") 
print("✅ Dimensionality reduction tools loaded")

# Set random seed for reproducibility
np.random.seed(42)# 🧠 Multimodal Embedding Demo: Clinical Concept Alignment

This notebook demonstrates the multimodal embedding capabilities of the EHR RAG system, including:

- **Clinical Text Embeddings**: Semantic representations of medical text
- **Medical Image Embeddings**: Visual feature extraction from DICOM data
- **Cross-Modal Alignment**: Unified embedding space for text and images
- **Clinical Concept Hierarchies**: Structured medical knowledge representation
- **Similarity Analysis**: Finding related clinical concepts across modalities

## 🎯 Learning Objectives

By the end of this notebook, you will understand:
1. How to create embeddings for clinical text and medical images
2. Cross-modal alignment techniques for healthcare data
3. Clinical concept hierarchy representation
4. Similarity search across different data types
5. Visualization of high-dimensional medical embeddings