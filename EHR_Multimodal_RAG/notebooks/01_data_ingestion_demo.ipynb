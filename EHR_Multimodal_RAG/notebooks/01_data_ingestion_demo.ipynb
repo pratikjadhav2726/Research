class ClinicalTextParser:
    """Advanced clinical text parser for medical document processing"""
    
    def __init__(self):
        # Medical abbreviations dictionary
        self.medical_abbreviations = {
            "SOB": "shortness of breath",
            "CP": "chest pain", 
            "MI": "myocardial infarction",
            "CHF": "congestive heart failure",
            "HTN": "hypertension",
            "CAD": "coronary artery disease",
            "ACS": "acute coronary syndrome",
            "BP": "blood pressure",
            "HR": "heart rate",
            "RR": "respiratory rate",
            "O2": "oxygen",
            "NKDA": "no known drug allergies",
            "BID": "twice daily",
            "PO": "by mouth",
            "IV": "intravenous",
            "ECG": "electrocardiogram",
            "CXR": "chest X-ray",
            "EF": "ejection fraction"
        }
        
        # Clinical section patterns
        self.section_patterns = {
            "chief_complaint": [r"chief complaint", r"cc:", r"presenting complaint"],
            "history_present_illness": [r"history of present illness", r"hpi:", r"present illness"],
            "past_medical_history": [r"past medical history", r"pmh:", r"medical history"],
            "medications": [r"medications", r"meds:", r"current medications"],
            "allergies": [r"allergies", r"drug allergies", r"nkda"],
            "social_history": [r"social history", r"sh:", r"social hx"],
            "physical_exam": [r"physical exam", r"pe:", r"examination"],
            "assessment": [r"assessment", r"impression", r"diagnosis"],
            "plan": [r"plan", r"treatment plan", r"recommendations"]
        }
        
        # Medical entity patterns
        self.entity_patterns = {
            "medication_dose": r'(\w+)\s+(\d+(?:\.\d+)?)\s*(mg|g|mcg|units?)',
            "vital_signs": {
                "blood_pressure": r'BP\s+(\d+)/(\d+)',
                "heart_rate": r'HR\s+(\d+)',
                "respiratory_rate": r'RR\s+(\d+)',
                "oxygen_saturation": r'O2\s+sat\s+(\d+)%',
                "temperature": r'Temp\s+(\d+(?:\.\d+)?)'
            },
            "lab_values": r'(\w+)\s+(\d+(?:\.\d+)?)\s*(\w+/?[\w]*)',
            "dates": r'(\d{1,2}[-/]\d{1,2}[-/]\d{2,4})|(\d{4}[-/]\d{1,2}[-/]\d{1,2})'
        }
    
    def expand_abbreviations(self, text):
        """Expand medical abbreviations in clinical text"""
        expanded_text = text
        expansions_made = []
        
        for abbrev, expansion in self.medical_abbreviations.items():
            pattern = r'\b' + re.escape(abbrev) + r'\b'
            if re.search(pattern, expanded_text, re.IGNORECASE):
                expanded_text = re.sub(pattern, f"{abbrev} ({expansion})", expanded_text, flags=re.IGNORECASE)
                expansions_made.append((abbrev, expansion))
        
        return expanded_text, expansions_made
    
    def extract_medications(self, text):
        """Extract medications with dosages from clinical text"""
        medications = []
        pattern = self.entity_patterns["medication_dose"]
        
        matches = re.finditer(pattern, text, re.IGNORECASE)
        for match in matches:
            medication = {
                "name": match.group(1),
                "dose": float(match.group(2)),
                "unit": match.group(3),
                "raw_text": match.group(0),
                "start_pos": match.start(),
                "end_pos": match.end()
            }
            medications.append(medication)
        
        return medications
    
    def extract_vital_signs(self, text):
        """Extract vital signs from clinical text"""
        vital_signs = {}
        
        for vital_type, pattern in self.entity_patterns["vital_signs"].items():
            matches = re.finditer(pattern, text, re.IGNORECASE)
            for match in matches:
                if vital_type == "blood_pressure":
                    vital_signs[vital_type] = {
                        "systolic": int(match.group(1)),
                        "diastolic": int(match.group(2)),
                        "formatted": f"{match.group(1)}/{match.group(2)}",
                        "raw_text": match.group(0)
                    }
                else:
                    vital_signs[vital_type] = {
                        "value": float(match.group(1)),
                        "raw_text": match.group(0)
                    }
        
        return vital_signs
    
    def identify_clinical_sections(self, text):
        """Identify different sections in a clinical note"""
        sections_found = {}
        lines = text.split('\n')
        
        for i, line in enumerate(lines):
            line_lower = line.lower().strip()
            
            for section_type, patterns in self.section_patterns.items():
                for pattern in patterns:
                    if re.search(pattern, line_lower):
                        sections_found[section_type] = {
                            "line_number": i,
                            "header_text": line.strip(),
                            "pattern_matched": pattern
                        }
                        break
        
        return sections_found
    
    def extract_lab_values(self, text):
        """Extract laboratory values from text"""
        lab_values = []
        pattern = self.entity_patterns["lab_values"]
        
        matches = re.finditer(pattern, text, re.IGNORECASE)
        for match in matches:
            lab_value = {
                "test_name": match.group(1),
                "value": float(match.group(2)),
                "unit": match.group(3),
                "raw_text": match.group(0),
                "start_pos": match.start(),
                "end_pos": match.end()
            }
            lab_values.append(lab_value)
        
        return lab_values
    
    def parse_clinical_note(self, text, note_id=None):
        """Complete parsing of a clinical note"""
        start_time = datetime.now()
        
        # Expand abbreviations
        expanded_text, expansions = self.expand_abbreviations(text)
        
        # Extract entities
        medications = self.extract_medications(text)
        vital_signs = self.extract_vital_signs(text)
        lab_values = self.extract_lab_values(text)
        sections = self.identify_clinical_sections(text)
        
        # Calculate statistics
        stats = {
            "total_words": len(text.split()),
            "total_lines": len(text.split('\n')),
            "medications_found": len(medications),
            "vital_signs_found": len(vital_signs),
            "lab_values_found": len(lab_values),
            "sections_identified": len(sections),
            "abbreviations_expanded": len(expansions)
        }
        
        processing_time = (datetime.now() - start_time).total_seconds()
        
        return {
            "note_id": note_id,
            "original_text": text,
            "expanded_text": expanded_text,
            "abbreviation_expansions": expansions,
            "medications": medications,
            "vital_signs": vital_signs,
            "lab_values": lab_values,
            "clinical_sections": sections,
            "statistics": stats,
            "processing_time": processing_time,
            "processed_at": datetime.now()
        }

# Initialize the parser
parser = ClinicalTextParser()

# Parse the emergency department note
ed_note = clinical_data['clinical_notes'][0]['content']
parsed_result = parser.parse_clinical_note(ed_note, "ED_NOTE_001")

print("🔍 Clinical Text Processing Results")
print("=" * 45)
print(f"⏱️  Processing Time: {parsed_result['processing_time']:.3f} seconds")
print(f"📊 Text Statistics:")
print(f"   • Total Words: {parsed_result['statistics']['total_words']}")
print(f"   • Total Lines: {parsed_result['statistics']['total_lines']}")
print(f"   • Abbreviations Expanded: {parsed_result['statistics']['abbreviations_expanded']}")

print(f"\n💊 Medications Extracted ({parsed_result['statistics']['medications_found']}):")
for med in parsed_result['medications']:
    print(f"   • {med['name']}: {med['dose']} {med['unit']}")

print(f"\n💓 Vital Signs Extracted ({parsed_result['statistics']['vital_signs_found']}):")
for vital_type, vital_data in parsed_result['vital_signs'].items():
    if vital_type == "blood_pressure":
        print(f"   • {vital_type.replace('_', ' ').title()}: {vital_data['formatted']}")
    else:
        print(f"   • {vital_type.replace('_', ' ').title()}: {vital_data['value']}")

print(f"\n📋 Clinical Sections Identified ({parsed_result['statistics']['sections_identified']}):")
for section_type, section_data in parsed_result['clinical_sections'].items():
    print(f"   • {section_type.replace('_', ' ').title()}: Line {section_data['line_number']}")

print(f"\n📝 Abbreviation Expansions ({len(parsed_result['abbreviation_expansions'])}):")
for abbrev, expansion in parsed_result['abbreviation_expansions'][:5]:  # Show first 5
    print(f"   • {abbrev} → {expansion}")
if len(parsed_result['abbreviation_expansions']) > 5:
    print(f"   ... and {len(parsed_result['abbreviation_expansions']) - 5} more")## 🔍 2. Clinical Text Processing

Now let's implement and demonstrate the clinical text parser that can extract medical entities, expand abbreviations, and identify clinical sections.def generate_sample_clinical_data():
    """Generate comprehensive sample clinical data for demonstration"""
    
    # Patient demographics and identifiers
    patient_data = {
        "patient_id": "DEMO_PATIENT_001",
        "medical_record_number": "MRN_2024_001",
        "demographics": {
            "age": 65,
            "gender": "Male",
            "date_of_birth": "1959-03-15",
            "admission_date": "2024-01-15"
        },
        
        # Clinical notes from different departments
        "clinical_notes": [
            {
                "note_id": "ED_NOTE_001",
                "date": "2024-01-15T14:30:00",
                "department": "Emergency Department",
                "provider": "Dr. Sarah Johnson, MD",
                "note_type": "Initial Assessment",
                "content": """
CHIEF COMPLAINT: 
65-year-old male presents with 3-day history of progressive SOB and CP.

HISTORY OF PRESENT ILLNESS:
Patient reports substernal chest pain, 7/10 intensity, radiating to left arm. 
Associated with diaphoresis, nausea, and increasing shortness of breath.
Symptoms worse with exertion, partially relieved with rest.
No recent travel, no sick contacts.

PAST MEDICAL HISTORY:
- Hypertension (diagnosed 2019)
- Type 2 Diabetes Mellitus (diagnosed 2020) 
- Coronary Artery Disease with MI (2022)
- Hyperlipidemia
- Chronic Kidney Disease Stage 3

MEDICATIONS:
- Metformin 500 mg PO BID
- Lisinopril 10 mg PO daily
- Atorvastatin 20 mg PO daily
- Aspirin 81 mg PO daily
- Carvedilol 6.25 mg PO BID

ALLERGIES: NKDA

SOCIAL HISTORY:
Former smoker (quit 2022), occasional alcohol use, lives with spouse.

PHYSICAL EXAMINATION:
VITAL SIGNS: BP 150/90, HR 95, RR 22, O2 sat 94% on RA, Temp 98.6°F
GENERAL: Alert, oriented, mild distress
CARDIOVASCULAR: Regular rate, S1S2 present, no murmurs, JVD present
PULMONARY: Bilateral crackles at bases, decreased breath sounds
EXTREMITIES: 2+ pedal edema bilaterally
NEUROLOGIC: Alert and oriented x3, no focal deficits

ASSESSMENT AND PLAN:
1. Acute heart failure exacerbation vs. ACS
   - Obtain ECG, CXR, cardiac enzymes, BNP
   - Start furosemide 40 mg IV
   - Monitor on telemetry
2. Diabetes management - check glucose, HbA1c
3. Cardiology consultation
                """
            },
            {
                "note_id": "CARDIO_NOTE_001", 
                "date": "2024-01-15T18:45:00",
                "department": "Cardiology",
                "provider": "Dr. Michael Chen, MD",
                "note_type": "Consultation",
                "content": """
CARDIOLOGY CONSULTATION

REASON FOR CONSULTATION: Elevated troponin, heart failure

ASSESSMENT:
Patient with known CAD presenting with acute heart failure exacerbation.
Elevated troponin suggests type 2 MI in setting of demand ischemia.
ECHO shows reduced EF ~35%, consistent with previous studies.

RECOMMENDATIONS:
1. Continue heart failure medications
2. Optimize ACE inhibitor therapy
3. Consider cardiac catheterization if troponin trend continues to rise
4. Diabetes management crucial for long-term outcomes
5. Follow-up in heart failure clinic in 1 week

DISPOSITION: Admit to telemetry unit for monitoring
                """
            }
        ],
        
        # Laboratory results with timestamps
        "lab_results": [
            {
                "collection_date": "2024-01-15T15:00:00",
                "lab_panel": "Cardiac Panel",
                "results": {
                    "Troponin I": {
                        "value": 0.85,
                        "unit": "ng/mL", 
                        "reference_range": "<0.04",
                        "status": "HIGH",
                        "critical": True
                    },
                    "CK-MB": {
                        "value": 8.2,
                        "unit": "ng/mL",
                        "reference_range": "0.0-6.3", 
                        "status": "HIGH",
                        "critical": False
                    },
                    "BNP": {
                        "value": 850,
                        "unit": "pg/mL",
                        "reference_range": "<100",
                        "status": "HIGH", 
                        "critical": True
                    }
                }
            },
            {
                "collection_date": "2024-01-15T15:00:00",
                "lab_panel": "Basic Metabolic Panel",
                "results": {
                    "Glucose": {
                        "value": 185,
                        "unit": "mg/dL",
                        "reference_range": "70-100",
                        "status": "HIGH",
                        "critical": False
                    },
                    "Creatinine": {
                        "value": 1.4,
                        "unit": "mg/dL", 
                        "reference_range": "0.7-1.3",
                        "status": "HIGH",
                        "critical": False
                    },
                    "BUN": {
                        "value": 28,
                        "unit": "mg/dL",
                        "reference_range": "7-20",
                        "status": "HIGH",
                        "critical": False
                    },
                    "Sodium": {
                        "value": 138,
                        "unit": "mmol/L",
                        "reference_range": "136-145", 
                        "status": "NORMAL",
                        "critical": False
                    },
                    "Potassium": {
                        "value": 4.2,
                        "unit": "mmol/L",
                        "reference_range": "3.5-5.1",
                        "status": "NORMAL",
                        "critical": False
                    }
                }
            },
            {
                "collection_date": "2024-01-15T15:00:00",
                "lab_panel": "Diabetes Panel", 
                "results": {
                    "HbA1c": {
                        "value": 8.4,
                        "unit": "%",
                        "reference_range": "<7.0",
                        "status": "HIGH",
                        "critical": False
                    },
                    "Fasting Glucose": {
                        "value": 185,
                        "unit": "mg/dL",
                        "reference_range": "70-100",
                        "status": "HIGH", 
                        "critical": False
                    }
                }
            }
        ],
        
        # Imaging studies
        "imaging_studies": [
            {
                "study_id": "CXR_001",
                "date": "2024-01-15T15:30:00",
                "modality": "Chest X-Ray",
                "indication": "Shortness of breath, chest pain",
                "technique": "PA and lateral views",
                "findings": """
CHEST X-RAY FINDINGS:
- Cardiomegaly with cardiothoracic ratio >0.5
- Bilateral pulmonary vascular congestion
- Small bilateral pleural effusions
- No acute consolidation or pneumothorax
- Blunting of bilateral costophrenic angles
                """,
                "impression": "Findings consistent with congestive heart failure",
                "radiologist": "Dr. Lisa Wang, MD"
            },
            {
                "study_id": "ECG_001", 
                "date": "2024-01-15T14:45:00",
                "modality": "12-Lead ECG",
                "indication": "Chest pain, elevated troponin",
                "findings": """
ECG INTERPRETATION:
- Sinus rhythm at 95 bpm
- Normal axis
- Q waves in leads II, III, aVF (consistent with old inferior MI)
- No acute ST-T wave changes
- Poor R wave progression V1-V3
- No conduction abnormalities
                """,
                "impression": "Old inferior MI, no acute changes",
                "cardiologist": "Dr. Michael Chen, MD"
            }
        ],
        
        # Vital signs with temporal data
        "vital_signs": [
            {
                "timestamp": "2024-01-15T14:30:00",
                "location": "ED Triage",
                "measurements": {
                    "systolic_bp": 150,
                    "diastolic_bp": 90, 
                    "heart_rate": 95,
                    "respiratory_rate": 22,
                    "oxygen_saturation": 94,
                    "temperature": 98.6,
                    "pain_score": 7
                }
            },
            {
                "timestamp": "2024-01-15T16:00:00", 
                "location": "ED Room 12",
                "measurements": {
                    "systolic_bp": 145,
                    "diastolic_bp": 88,
                    "heart_rate": 92,
                    "respiratory_rate": 20,
                    "oxygen_saturation": 96,
                    "temperature": 98.4,
                    "pain_score": 5
                }
            },
            {
                "timestamp": "2024-01-15T18:00:00",
                "location": "Telemetry Unit",
                "measurements": {
                    "systolic_bp": 138,
                    "diastolic_bp": 85,
                    "heart_rate": 88,
                    "respiratory_rate": 18, 
                    "oxygen_saturation": 97,
                    "temperature": 98.2,
                    "pain_score": 3
                }
            }
        ],
        
        # Medication administration records
        "medication_records": [
            {
                "timestamp": "2024-01-15T15:15:00",
                "medication": "Furosemide",
                "dose": "40 mg",
                "route": "IV",
                "frequency": "Once",
                "indication": "Acute heart failure",
                "administered_by": "RN Jennifer Smith"
            },
            {
                "timestamp": "2024-01-15T16:00:00", 
                "medication": "Aspirin",
                "dose": "81 mg",
                "route": "PO",
                "frequency": "Daily",
                "indication": "Cardioprotective",
                "administered_by": "RN Jennifer Smith"
            }
        ]
    }
    
    return patient_data

# Generate the sample data
clinical_data = generate_sample_clinical_data()

print("📊 Sample Clinical Data Generated Successfully!")
print("=" * 50)
print(f"👤 Patient ID: {clinical_data['patient_id']}")
print(f"📝 Clinical Notes: {len(clinical_data['clinical_notes'])}")
print(f"🧪 Lab Panels: {len(clinical_data['lab_results'])}")
print(f"🔬 Imaging Studies: {len(clinical_data['imaging_studies'])}")
print(f"💓 Vital Sign Records: {len(clinical_data['vital_signs'])}")
print(f"💊 Medication Records: {len(clinical_data['medication_records'])}")

# Display patient demographics
print(f"\n👤 Patient Demographics:")
for key, value in clinical_data['demographics'].items():
    print(f"   {key.replace('_', ' ').title()}: {value}")

# Show data structure overview
print(f"\n📋 Data Structure Overview:")
for key, value in clinical_data.items():
    if isinstance(value, list):
        print(f"   {key}: {len(value)} items")
    elif isinstance(value, dict):
        print(f"   {key}: {len(value)} fields")
    else:
        print(f"   {key}: {type(value).__name__}")## 📋 1. Sample Clinical Data Generation

First, let's create realistic sample clinical data that represents typical EHR information including clinical notes, lab results, imaging reports, and vital signs.# Import required libraries
import os
import sys
import numpy as np
import pandas as pd
import matplotlib.pyplot as plt
import seaborn as sns
from datetime import datetime, timedelta
import json
import re
import warnings
warnings.filterwarnings('ignore')

# Add src to path for imports
sys.path.append('../src')
sys.path.append('../')

# Setup plotting
plt.style.use('default')
sns.set_palette("husl")

print("✅ Libraries imported successfully!")
print(f"📅 Notebook run date: {datetime.now().strftime('%Y-%m-%d %H:%M:%S')}")
print(f"🐍 Python version: {sys.version.split()[0]}")
print(f"📊 NumPy version: {np.__version__}")
print(f"🐼 Pandas version: {pd.__version__}")

# Configure display options
pd.set_option('display.max_columns', None)
pd.set_option('display.width', None)
pd.set_option('display.max_colwidth', 100)# 📊 EHR Data Ingestion Demo: Comprehensive Clinical Data Processing

This notebook demonstrates the complete data ingestion pipeline for the EHR Multimodal RAG system, including:

- **DICOM Image Processing**: Medical imaging data extraction and preprocessing
- **Clinical Text Parsing**: Advanced NLP for medical notes and reports
- **Structured Data Handling**: Lab results, vital signs, and medication records
- **Temporal Alignment**: Time-series data synchronization
- **Quality Validation**: Data integrity and completeness checks

## 🎯 Learning Objectives

By the end of this notebook, you will understand:
1. How to process various types of clinical data
2. Medical text parsing and entity extraction techniques
3. DICOM image handling and metadata extraction
4. Data quality assessment and validation methods
5. Integration of multimodal clinical information